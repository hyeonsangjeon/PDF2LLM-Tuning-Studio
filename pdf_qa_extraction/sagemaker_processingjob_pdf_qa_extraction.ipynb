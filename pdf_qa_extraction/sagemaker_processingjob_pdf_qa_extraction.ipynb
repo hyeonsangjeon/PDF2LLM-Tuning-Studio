{
 "cells": [
  {
   "cell_type": "markdown",
   "id": "b6a822a6-0c5d-4f97-9084-e80941047de8",
   "metadata": {},
   "source": [
    "# SageMaker Processing을 활용한 PDF 기반 QA 데이터 생성 배치 파이프라인 자동화\n",
    "이 노트북은 AWS SageMaker Processing 기능을 활용하여 PDF 파일로부터 QA(질문-답변) 데이터셋을 자동으로 생성하는 배치 파이프라인 예제입니다.\n",
    "\n",
    "\n",
    "아래 이미지는 SageMaker Processing Job을 활용한 PDF QA 데이터 생성 파이프라인의 아키텍처를 보여줍니다:\n",
    "\n",
    "![PDF QA 추출 아키텍처](../assets/images/processing_job_architecture.png)\n",
    "\n",
    "\n",
    "이 아키텍처는 PDF 문서를 입력으로 받아 질문-답변 쌍을 자동으로 생성하는 전체 프로세스를 나타냅니다.\n",
    "이 노트북에서는 SageMaker Processing Job을 사용하여 PDF 문서로부터 QA 데이터셋을 생성하는 방법을 단계별로 설명합니다. 이 과정은 대량의 PDF 다중 문서를 처리하고, 각 문서에서 질문과 답변 쌍을 추출하여 QA 데이터셋을 구축하는 데 유용합니다.\n",
    "주요 단계는 다음과 같습니다:\n",
    "\n",
    "1. SageMaker 세션 및 IAM 역할 설정\n",
    "2. S3 버킷 및 데이터 경로 지정\n",
    "3. 입력 PDF 파일을 S3로 업로드\n",
    "4. 커스텀 Docker 이미지를 활용한 ScriptProcessor 구성\n",
    "5. Processing Job 실행 및 상태 모니터링\n",
    "6. 결과 데이터 다운로드\n",
    "\n",
    "이 파이프라인을 통해 대용량 PDF 문서로부터 손쉽게 QA 데이터셋을 생성할 수 있습니다.\n"
   ]
  },
  {
   "cell_type": "code",
   "execution_count": 1,
   "id": "52ae9e78",
   "metadata": {},
   "outputs": [
    {
     "name": "stderr",
     "output_type": "stream",
     "text": [
      "/home/ec2-user/anaconda3/envs/pytorch_p310/lib/python3.10/site-packages/pydantic/_internal/_fields.py:172: UserWarning: Field name \"json\" in \"MonitoringDatasetFormat\" shadows an attribute in parent \"Base\"\n",
      "  warnings.warn(\n"
     ]
    },
    {
     "data": {
      "text/html": [
       "<pre style=\"white-space:pre;overflow-x:auto;line-height:normal;font-family:Menlo,'DejaVu Sans Mono',consolas,'Courier New',monospace\"><span style=\"color: #7fbfbf; text-decoration-color: #7fbfbf\">[05/29/25 08:39:56] </span><span style=\"color: #0069ff; text-decoration-color: #0069ff; font-weight: bold\">INFO    </span> Found credentials from IAM Role:                                   <a href=\"file:///home/ec2-user/anaconda3/envs/pytorch_p310/lib/python3.10/site-packages/botocore/credentials.py\" target=\"_blank\"><span style=\"color: #7f7f7f; text-decoration-color: #7f7f7f\">credentials.py</span></a><span style=\"color: #7f7f7f; text-decoration-color: #7f7f7f\">:</span><a href=\"file:///home/ec2-user/anaconda3/envs/pytorch_p310/lib/python3.10/site-packages/botocore/credentials.py#1132\" target=\"_blank\"><span style=\"color: #7f7f7f; text-decoration-color: #7f7f7f\">1132</span></a>\n",
       "<span style=\"color: #7fbfbf; text-decoration-color: #7fbfbf\">                    </span>         BaseNotebookInstanceEc2InstanceRole                                <span style=\"color: #7f7f7f; text-decoration-color: #7f7f7f\">                   </span>\n",
       "</pre>\n"
      ],
      "text/plain": [
       "\u001b[2;36m[05/29/25 08:39:56]\u001b[0m\u001b[2;36m \u001b[0m\u001b[1;38;2;0;105;255mINFO    \u001b[0m Found credentials from IAM Role:                                   \u001b]8;id=711088;file:///home/ec2-user/anaconda3/envs/pytorch_p310/lib/python3.10/site-packages/botocore/credentials.py\u001b\\\u001b[2mcredentials.py\u001b[0m\u001b]8;;\u001b\\\u001b[2m:\u001b[0m\u001b]8;id=383036;file:///home/ec2-user/anaconda3/envs/pytorch_p310/lib/python3.10/site-packages/botocore/credentials.py#1132\u001b\\\u001b[2m1132\u001b[0m\u001b]8;;\u001b\\\n",
       "\u001b[2;36m                    \u001b[0m         BaseNotebookInstanceEc2InstanceRole                                \u001b[2m                   \u001b[0m\n"
      ]
     },
     "metadata": {},
     "output_type": "display_data"
    },
    {
     "name": "stdout",
     "output_type": "stream",
     "text": [
      "sagemaker.config INFO - Not applying SDK defaults from location: /etc/xdg/sagemaker/config.yaml\n",
      "sagemaker.config INFO - Not applying SDK defaults from location: /home/ec2-user/.config/sagemaker/config.yaml\n"
     ]
    }
   ],
   "source": [
    "# 필요한 라이브러리와 모듈을 임포트합니다.\n",
    "import os\n",
    "import boto3\n",
    "import sagemaker\n",
    "from sagemaker.processing import ProcessingInput, ProcessingOutput\n",
    "from sagemaker.processing import ScriptProcessor\n",
    "from datetime import datetime"
   ]
  },
  {
   "cell_type": "markdown",
   "id": "0a2c0aa5",
   "metadata": {},
   "source": [
    "# SageMaker 세션 및 IAM 역할 설정"
   ]
  },
  {
   "cell_type": "code",
   "execution_count": 2,
   "id": "04097d68-9acc-41b3-895e-667e3381f23c",
   "metadata": {},
   "outputs": [
    {
     "data": {
      "text/html": [
       "<pre style=\"white-space:pre;overflow-x:auto;line-height:normal;font-family:Menlo,'DejaVu Sans Mono',consolas,'Courier New',monospace\"><span style=\"color: #7fbfbf; text-decoration-color: #7fbfbf\">[05/29/25 08:40:00] </span><span style=\"color: #0069ff; text-decoration-color: #0069ff; font-weight: bold\">INFO    </span> Found credentials from IAM Role:                                   <a href=\"file:///home/ec2-user/anaconda3/envs/pytorch_p310/lib/python3.10/site-packages/botocore/credentials.py\" target=\"_blank\"><span style=\"color: #7f7f7f; text-decoration-color: #7f7f7f\">credentials.py</span></a><span style=\"color: #7f7f7f; text-decoration-color: #7f7f7f\">:</span><a href=\"file:///home/ec2-user/anaconda3/envs/pytorch_p310/lib/python3.10/site-packages/botocore/credentials.py#1132\" target=\"_blank\"><span style=\"color: #7f7f7f; text-decoration-color: #7f7f7f\">1132</span></a>\n",
       "<span style=\"color: #7fbfbf; text-decoration-color: #7fbfbf\">                    </span>         BaseNotebookInstanceEc2InstanceRole                                <span style=\"color: #7f7f7f; text-decoration-color: #7f7f7f\">                   </span>\n",
       "</pre>\n"
      ],
      "text/plain": [
       "\u001b[2;36m[05/29/25 08:40:00]\u001b[0m\u001b[2;36m \u001b[0m\u001b[1;38;2;0;105;255mINFO    \u001b[0m Found credentials from IAM Role:                                   \u001b]8;id=192878;file:///home/ec2-user/anaconda3/envs/pytorch_p310/lib/python3.10/site-packages/botocore/credentials.py\u001b\\\u001b[2mcredentials.py\u001b[0m\u001b]8;;\u001b\\\u001b[2m:\u001b[0m\u001b]8;id=963428;file:///home/ec2-user/anaconda3/envs/pytorch_p310/lib/python3.10/site-packages/botocore/credentials.py#1132\u001b\\\u001b[2m1132\u001b[0m\u001b]8;;\u001b\\\n",
       "\u001b[2;36m                    \u001b[0m         BaseNotebookInstanceEc2InstanceRole                                \u001b[2m                   \u001b[0m\n"
      ]
     },
     "metadata": {},
     "output_type": "display_data"
    },
    {
     "data": {
      "text/html": [
       "<pre style=\"white-space:pre;overflow-x:auto;line-height:normal;font-family:Menlo,'DejaVu Sans Mono',consolas,'Courier New',monospace\"><span style=\"color: #7fbfbf; text-decoration-color: #7fbfbf\">                    </span><span style=\"color: #0069ff; text-decoration-color: #0069ff; font-weight: bold\">INFO    </span> Found credentials from IAM Role:                                   <a href=\"file:///home/ec2-user/anaconda3/envs/pytorch_p310/lib/python3.10/site-packages/botocore/credentials.py\" target=\"_blank\"><span style=\"color: #7f7f7f; text-decoration-color: #7f7f7f\">credentials.py</span></a><span style=\"color: #7f7f7f; text-decoration-color: #7f7f7f\">:</span><a href=\"file:///home/ec2-user/anaconda3/envs/pytorch_p310/lib/python3.10/site-packages/botocore/credentials.py#1132\" target=\"_blank\"><span style=\"color: #7f7f7f; text-decoration-color: #7f7f7f\">1132</span></a>\n",
       "<span style=\"color: #7fbfbf; text-decoration-color: #7fbfbf\">                    </span>         BaseNotebookInstanceEc2InstanceRole                                <span style=\"color: #7f7f7f; text-decoration-color: #7f7f7f\">                   </span>\n",
       "</pre>\n"
      ],
      "text/plain": [
       "\u001b[2;36m                   \u001b[0m\u001b[2;36m \u001b[0m\u001b[1;38;2;0;105;255mINFO    \u001b[0m Found credentials from IAM Role:                                   \u001b]8;id=14071;file:///home/ec2-user/anaconda3/envs/pytorch_p310/lib/python3.10/site-packages/botocore/credentials.py\u001b\\\u001b[2mcredentials.py\u001b[0m\u001b]8;;\u001b\\\u001b[2m:\u001b[0m\u001b]8;id=12139;file:///home/ec2-user/anaconda3/envs/pytorch_p310/lib/python3.10/site-packages/botocore/credentials.py#1132\u001b\\\u001b[2m1132\u001b[0m\u001b]8;;\u001b\\\n",
       "\u001b[2;36m                    \u001b[0m         BaseNotebookInstanceEc2InstanceRole                                \u001b[2m                   \u001b[0m\n"
      ]
     },
     "metadata": {},
     "output_type": "display_data"
    }
   ],
   "source": [
    "sagemaker_session = sagemaker.Session() # SageMaker 세션을 생성합니다.\n",
    "role = sagemaker.get_execution_role()  # 현재 실행 중인 노트북 인스턴스의 역할"
   ]
  },
  {
   "cell_type": "markdown",
   "id": "574e7270-cfbd-4fe1-a6ab-8b825a289f35",
   "metadata": {},
   "source": [
    "# S3 버킷 및 프리픽스 설정\n",
    "\n",
    "S3는 SageMaker Processing Job의 입력 데이터 레이크(data lake) 저장소 역할을 합니다.  \n",
    "PDF와 같은 원본 데이터를 S3에 업로드하면, SageMaker Processing Job이 해당 S3 경로에서 데이터를 읽어와 처리할 수 있습니다.  \n",
    "S3에서 대용량의 데이터를 효율적으로 관리하고, 다양한 SageMaker 작업에서 재사용할 수 있습니다."
   ]
  },
  {
   "cell_type": "code",
   "execution_count": 3,
   "id": "d0b4c552-863a-4fba-895d-1d2ab5fb17be",
   "metadata": {},
   "outputs": [],
   "source": [
    "bucket = sagemaker_session.default_bucket()\n",
    "prefix = \"pdf-qa-generation\"\n",
    "timestamp = datetime.now().strftime(\"%Y-%m-%d-%H-%M-%S\")\n",
    "input_prefix = f\"{prefix}/input\"\n",
    "output_prefix = f\"{prefix}/output/{timestamp}\""
   ]
  },
  {
   "cell_type": "code",
   "execution_count": 4,
   "id": "7ecd85e7-59b7-4d28-8d76-484246457f42",
   "metadata": {},
   "outputs": [
    {
     "data": {
      "text/plain": [
       "'pdf-qa-generation/input'"
      ]
     },
     "execution_count": 4,
     "metadata": {},
     "output_type": "execute_result"
    }
   ],
   "source": [
    "input_prefix"
   ]
  },
  {
   "cell_type": "markdown",
   "id": "e0ab6314-646f-4d0d-b990-2c3800c26993",
   "metadata": {},
   "source": [
    "# 입력 PDF를 S3에 업로드"
   ]
  },
  {
   "cell_type": "code",
   "execution_count": 5,
   "id": "bd3e2450-c83c-4a59-8606-f8c94621c402",
   "metadata": {},
   "outputs": [
    {
     "data": {
      "text/html": [
       "<pre style=\"white-space:pre;overflow-x:auto;line-height:normal;font-family:Menlo,'DejaVu Sans Mono',consolas,'Courier New',monospace\"><span style=\"color: #7fbfbf; text-decoration-color: #7fbfbf\">[05/29/25 08:40:12] </span><span style=\"color: #0069ff; text-decoration-color: #0069ff; font-weight: bold\">INFO    </span> Found credentials from IAM Role:                                   <a href=\"file:///home/ec2-user/anaconda3/envs/pytorch_p310/lib/python3.10/site-packages/botocore/credentials.py\" target=\"_blank\"><span style=\"color: #7f7f7f; text-decoration-color: #7f7f7f\">credentials.py</span></a><span style=\"color: #7f7f7f; text-decoration-color: #7f7f7f\">:</span><a href=\"file:///home/ec2-user/anaconda3/envs/pytorch_p310/lib/python3.10/site-packages/botocore/credentials.py#1132\" target=\"_blank\"><span style=\"color: #7f7f7f; text-decoration-color: #7f7f7f\">1132</span></a>\n",
       "<span style=\"color: #7fbfbf; text-decoration-color: #7fbfbf\">                    </span>         BaseNotebookInstanceEc2InstanceRole                                <span style=\"color: #7f7f7f; text-decoration-color: #7f7f7f\">                   </span>\n",
       "</pre>\n"
      ],
      "text/plain": [
       "\u001b[2;36m[05/29/25 08:40:12]\u001b[0m\u001b[2;36m \u001b[0m\u001b[1;38;2;0;105;255mINFO    \u001b[0m Found credentials from IAM Role:                                   \u001b]8;id=341957;file:///home/ec2-user/anaconda3/envs/pytorch_p310/lib/python3.10/site-packages/botocore/credentials.py\u001b\\\u001b[2mcredentials.py\u001b[0m\u001b]8;;\u001b\\\u001b[2m:\u001b[0m\u001b]8;id=694718;file:///home/ec2-user/anaconda3/envs/pytorch_p310/lib/python3.10/site-packages/botocore/credentials.py#1132\u001b\\\u001b[2m1132\u001b[0m\u001b]8;;\u001b\\\n",
       "\u001b[2;36m                    \u001b[0m         BaseNotebookInstanceEc2InstanceRole                                \u001b[2m                   \u001b[0m\n"
      ]
     },
     "metadata": {},
     "output_type": "display_data"
    },
    {
     "name": "stdout",
     "output_type": "stream",
     "text": [
      "PDF 업로드 완료: s3://sagemaker-us-east-1-975050087315/pdf-qa-generation/input/pdf/fsi_data.pdf\n"
     ]
    }
   ],
   "source": [
    "# 입력 PDF를 S3에 업로드\n",
    "pdf_local_path = \"data/fsi_data.pdf\"  # 로컬 PDF 파일 경로\n",
    "pdf_s3_key = f\"{input_prefix}/pdf/fsi_data.pdf\"\n",
    "s3_client = boto3.client('s3')\n",
    "s3_client.upload_file(pdf_local_path, bucket, pdf_s3_key)\n",
    "print(f\"PDF 업로드 완료: s3://{bucket}/{pdf_s3_key}\")"
   ]
  },
  {
   "cell_type": "markdown",
   "id": "03b7cf28-a720-49c6-98c1-3423a4124615",
   "metadata": {},
   "source": [
    "# 커스텀 Docker 이미지 ECR(AWS container hub)에 푸시 \n",
    "\n",
    "- 00_sagemaker_environment_setup.ipynb 의 2. Set default parameters 출력정보를 참조하세요"
   ]
  },
  {
   "cell_type": "code",
   "execution_count": 12,
   "id": "bc35b99a-acb5-4de0-8577-5fb7f708d769",
   "metadata": {},
   "outputs": [
    {
     "name": "stdout",
     "output_type": "stream",
     "text": [
      "Using default tag: latest\n",
      "The push refers to repository [975050087315.dkr.ecr.us-east-1.amazonaws.com/qa-extractor]\n",
      "\n",
      "\u001b[1B0027f30e: Preparing \n",
      "\u001b[1B2fee2d00: Preparing \n",
      "\u001b[1B7760677d: Preparing \n",
      "\u001b[1Ba171f478: Preparing \n",
      "\u001b[1B60d37ee0: Preparing \n",
      "\u001b[1Bcb3fbb9d: Preparing \n",
      "\u001b[1B032f1539: Preparing \n",
      "\u001b[1B7877232e: Preparing \n",
      "\u001b[1B270bc1c6: Preparing \n",
      "\u001b[1B3bb9c80f: Preparing \n",
      "\u001b[1Bffc45974: Preparing \n",
      "\u001b[1Bf7829cb7: Preparing \n",
      "\u001b[1B869b72ab: Preparing \n",
      "\u001b[14Blatest: digest: sha256:6d3f70675c4cae250e1b8b5aca8fb7d88d9ff5cb0b17ea9064e0d74c1e519c42 size: 3265\n"
     ]
    }
   ],
   "source": [
    "# ECR 로그인 - AWS 인증 수행\n",
    "aws ecr get-login-password --region <your-region> | docker login --username AWS --password-stdin <your-account-id>.dkr.ecr.<your-region>.amazonaws.com\n",
    "# 로컬 이미지에 ECR 태그 지정\n",
    "docker tag qa-extractor <your-account-id>.dkr.ecr.<your-region>.amazonaws.com/qa-extractor\n",
    "# ECR 저장소 생성\n",
    "aws ecr create-repository --repository-name qa-extractor --region <your-region>\n",
    "# 이미지를 ECR로 푸시\n",
    "docker push <your-account-id>.dkr.ecr.<your-region>.amazonaws.com/qa-extractor"
   ]
  },
  {
   "cell_type": "markdown",
   "id": "e4aa81ed-1661-4003-be15-a6807a346fef",
   "metadata": {},
   "source": [
    "# 커스텀 Docker 이미지 URI 설정\n",
    "- 아래는 예시 URI로, 실제 환경에 맞게 수정해야 합니다."
   ]
  },
  {
   "cell_type": "code",
   "execution_count": 13,
   "id": "b82f1646-20dd-4c83-a525-330542d01d8e",
   "metadata": {},
   "outputs": [],
   "source": [
    "#custom_image_uri = \"740128158828.dkr.ecr.us-east-1.amazonaws.com/qa-extractor:latest\"\n",
    "custom_image_uri = \"<your-account-id>.dkr.ecr.<your-region>.amazonaws.com/<your-ecr-image>:latest\""
   ]
  },
  {
   "cell_type": "markdown",
   "id": "1035610c-9d1a-42ff-be29-3c36e75bbecb",
   "metadata": {},
   "source": [
    "# ScriptProcessor 설정\n",
    "\n",
    "아래 코드는 SageMaker의 `ScriptProcessor` 객체를 생성하는 예시입니다.  \n",
    "`ScriptProcessor`는 커스텀 Docker 이미지를 활용하여 Python 스크립트를 실행할 수 있도록 도와주는 SageMaker Processing의 필수 구성 요소입니다.\n",
    "\n",
    "- `base_job_name`: 생성되는 Processing Job의 기본 이름을 지정합니다.\n",
    "- `image_uri`: ECR에 저장된 커스텀 Docker 이미지의 URI를 입력합니다.\n",
    "- `command`: 컨테이너 내에서 실행할 명령어(여기서는 `python3`)를 지정합니다.\n",
    "- `instance_type`: unstructured Processing Job이 실행될 gpu 인스턴스 타입을 지정합니다. (`ml.g5.4xlarge` 등)\n",
    "- `instance_count`: 사용할 인스턴스 개수를 지정합니다.\n",
    "- `role`: SageMaker가 리소스에 접근할 때 사용할 IAM 역할을 지정합니다.\n",
    "- `sagemaker_session`: SageMaker 세션 객체를 전달합니다.\n",
    "- `max_runtime_in_seconds`: 작업의 최대 실행 시간을 초 단위로 지정합니다.\n",
    "\n",
    "이 설정으로 PDF에서 QA 데이터를 추출하는 커스텀 스크립트를 대규모로 효율적으로 실행할 수 있습니다."
   ]
  },
  {
   "cell_type": "code",
   "execution_count": 14,
   "id": "5ce2ecd0-ef50-4479-aa52-18ef10846cb5",
   "metadata": {},
   "outputs": [],
   "source": [
    "processor = ScriptProcessor(\n",
    "    base_job_name=\"pdf-qa-generator\",\n",
    "    image_uri=custom_image_uri,\n",
    "    command=[\"python3\"],   # 실행 명령만 포함\n",
    "    instance_type=\"ml.c7i.4xlarge\", #\"ml.g5.4xlarge\" 이벤트실습계정에는 processing job의 gpu 쿼터가 없음\n",
    "    instance_count=1,\n",
    "    role=role,\n",
    "    sagemaker_session=sagemaker_session,\n",
    "    max_runtime_in_seconds=7200\n",
    ")"
   ]
  },
  {
   "cell_type": "markdown",
   "id": "3e7b41cd-89c3-47f3-abd8-29e37f5b4b24",
   "metadata": {},
   "source": [
    "# Processing Job 실행\n",
    "\n",
    "아래 코드는 SageMaker Processing Job을 실행하는 예시입니다.  \n",
    "`processor.run()` 메서드를 통해 지정한 Python 스크립트(`processing.py`)를 커스텀 Docker 컨테이너에서 실행합니다.  \n",
    "입력 PDF 파일이 저장된 S3 경로를 컨테이너의 입력 디렉터리(`/opt/ml/processing/input/pdf`)로 전달하고,  \n",
    "처리 결과(QA 쌍 데이터)는 `/opt/ml/processing/output`에서 S3 출력 경로로 저장됩니다.\n",
    "\n",
    "- `wait=False`와 `logs=False` 옵션을 사용하여 비동기(Non-blocking)로 작업을 실행합니다.\n",
    "- 실행이 시작되면 출력 데이터가 저장될 S3 경로가 출력됩니다.\n",
    "\n",
    "- `arguments` 파라미터는 실행할 스크립트에 추가 인자를 전달할 때 사용합니다.  \n",
    "    예시에서는 다음과 같은 인자를 전달합니다:\n",
    "       \n",
    "    - `--domain`: QA 데이터셋을 생성할 도메인(여기서는 \"International Finance\")\n",
    "    - `--num_questions`: 각 문서에서 생성할 질문 개수(여기서는 5개)\n",
    "    - `--model_id`: 사용할 생성형 AI 모델의 ID(여기서는 Claude 3 Sonnet)"
   ]
  },
  {
   "cell_type": "code",
   "execution_count": 15,
   "id": "d817356e-3ed1-4d7c-a437-252c7c478fdf",
   "metadata": {},
   "outputs": [
    {
     "data": {
      "text/html": [
       "<pre style=\"white-space:pre;overflow-x:auto;line-height:normal;font-family:Menlo,'DejaVu Sans Mono',consolas,'Courier New',monospace\"><span style=\"color: #7fbfbf; text-decoration-color: #7fbfbf\">[05/29/25 08:54:13] </span><span style=\"color: #0069ff; text-decoration-color: #0069ff; font-weight: bold\">INFO    </span> Creating processing-job with name                                      <a href=\"file:///home/ec2-user/anaconda3/envs/pytorch_p310/lib/python3.10/site-packages/sagemaker/session.py\" target=\"_blank\"><span style=\"color: #7f7f7f; text-decoration-color: #7f7f7f\">session.py</span></a><span style=\"color: #7f7f7f; text-decoration-color: #7f7f7f\">:</span><a href=\"file:///home/ec2-user/anaconda3/envs/pytorch_p310/lib/python3.10/site-packages/sagemaker/session.py#1586\" target=\"_blank\"><span style=\"color: #7f7f7f; text-decoration-color: #7f7f7f\">1586</span></a>\n",
       "<span style=\"color: #7fbfbf; text-decoration-color: #7fbfbf\">                    </span>         pdf-qa-generator-<span style=\"color: #008080; text-decoration-color: #008080; font-weight: bold\">2025</span>-05-29-08-54-13-680                               <span style=\"color: #7f7f7f; text-decoration-color: #7f7f7f\">               </span>\n",
       "</pre>\n"
      ],
      "text/plain": [
       "\u001b[2;36m[05/29/25 08:54:13]\u001b[0m\u001b[2;36m \u001b[0m\u001b[1;38;2;0;105;255mINFO    \u001b[0m Creating processing-job with name                                      \u001b]8;id=804196;file:///home/ec2-user/anaconda3/envs/pytorch_p310/lib/python3.10/site-packages/sagemaker/session.py\u001b\\\u001b[2msession.py\u001b[0m\u001b]8;;\u001b\\\u001b[2m:\u001b[0m\u001b]8;id=500090;file:///home/ec2-user/anaconda3/envs/pytorch_p310/lib/python3.10/site-packages/sagemaker/session.py#1586\u001b\\\u001b[2m1586\u001b[0m\u001b]8;;\u001b\\\n",
       "\u001b[2;36m                    \u001b[0m         pdf-qa-generator-\u001b[1;36m2025\u001b[0m-05-29-08-54-13-680                               \u001b[2m               \u001b[0m\n"
      ]
     },
     "metadata": {},
     "output_type": "display_data"
    },
    {
     "name": "stdout",
     "output_type": "stream",
     "text": [
      "출력 데이터는 다음 위치에 저장됩니다: s3://sagemaker-us-east-1-975050087315/pdf-qa-generation/output/2025-05-29-08-40-07\n"
     ]
    }
   ],
   "source": [
    "# Processing Job 실행\n",
    "processing_job = processor.run(\n",
    "    code=\"processing.py\",  # 스크립트 파일 이름\n",
    "    inputs=[\n",
    "        ProcessingInput(\n",
    "            source=f\"s3://{bucket}/{input_prefix}/pdf\",\n",
    "            destination=\"/opt/ml/processing/input/pdf\"\n",
    "        )\n",
    "    ],\n",
    "    outputs=[\n",
    "        ProcessingOutput(\n",
    "            output_name=\"qa_pairs\",\n",
    "            source=\"/opt/ml/processing/output\",\n",
    "            destination=f\"s3://{bucket}/{output_prefix}\"\n",
    "        )\n",
    "    ],\n",
    "    arguments=[\n",
    "        \"--domain\", \"International Finance\",\n",
    "        \"--num_questions\", \"5\",\n",
    "        \"--model_id\", \"anthropic.claude-3-sonnet-20240229-v1:0\"  # 원하는 모델 ID 지정\n",
    "    ],\n",
    "    wait=False,  # 비동기 실행\n",
    "    logs=False\n",
    ")\n",
    "#print(f\"Processing Job 시작: {processing_job.job_name}\")\n",
    "print(f\"출력 데이터는 다음 위치에 저장됩니다: s3://{bucket}/{output_prefix}\")"
   ]
  },
  {
   "cell_type": "code",
   "execution_count": 16,
   "id": "9404172a-21ee-4570-943e-2f0783b8f2b0",
   "metadata": {},
   "outputs": [
    {
     "name": "stdout",
     "output_type": "stream",
     "text": [
      "Job 상태: InProgress\n"
     ]
    }
   ],
   "source": [
    "# (선택 사항) Job 상태 확인\n",
    "job_status = processor.jobs[-1].describe()\n",
    "print(f\"Job 상태: {job_status['ProcessingJobStatus']}\")"
   ]
  },
  {
   "cell_type": "code",
   "execution_count": 17,
   "id": "0372d5f0-b740-4c3a-b3b5-c53b4f9bc429",
   "metadata": {},
   "outputs": [
    {
     "name": "stdout",
     "output_type": "stream",
     "text": [
      "..................\u001b[34mThe `max_size` parameter is deprecated and will be removed in v4.26. Please specify in `size['longest_edge'] instead`.\u001b[0m\n",
      "\u001b[34m입력 디렉토리: /opt/ml/processing/input\u001b[0m\n",
      "\u001b[34m출력 디렉토리: /opt/ml/processing/output\u001b[0m\n",
      "\u001b[34mPDF 파일 경로: /opt/ml/processing/input/pdf/fsi_data.pdf\u001b[0m\n",
      "\u001b[34m출력 파일 경로: /opt/ml/processing/output/qa_pairs.jsonl\u001b[0m\n",
      "\u001b[34mAWS 리전: us-east-1\u001b[0m\n",
      "\u001b[34mPDF 질문 생성 작업 시작...\u001b[0m\n",
      "\u001b[34m도메인: International Finance, 질문 수: 5, 모델: anthropic.claude-3-sonnet-20240229-v1:0\u001b[0m\n",
      "\u001b[34mAWS Bedrock 클라이언트 설정 중...\u001b[0m\n",
      "\u001b[34m추출된 요소 수: 3\u001b[0m\n",
      "\u001b[34m요소 1/3 처리 중... (텍스트 길이: 2143)\u001b[0m\n",
      "\u001b[34m```json\u001b[0m\n",
      "\u001b[34m{\u001b[0m\n",
      "\u001b[34m    \"QUESTION\": \"외환수급 불균형 구조가 형성된 주요 원인은 무엇입니까?\",\u001b[0m\n",
      "\u001b[34m    \"ANSWER\": \"외화 유입 대비 유출 우위가 지속되어 외환수급 불균형 구조가 형성되었습니다.\"\u001b[0m\n",
      "\u001b[34m},\u001b[0m\n",
      "\u001b[34m{\n",
      "    \"QUESTION\": \"우리나라의 대외건전성이 견고해진 주요 지표는 무엇입니까?\",\u001b[0m\n",
      "\u001b[34m    \"ANSWER\": \"외환보유액이 4,000억불을 상회하고, 순대외금융자산이 1조불에 이르는 등 우리나라의 대외건전성이 견고해졌습니다.\"\u001b[0m\n",
      "\u001b[34m},\u001b[0m\n",
      "\u001b[34m{\u001b[0m\n",
      "\u001b[34m    \"QUESTION\": \"외환수급 균형을 위해 정부가 추진하려는 정책 방향은 무엇입니까?\",\u001b[0m\n",
      "\u001b[34m    \"ANSWER\": \"외환수급 균형을 위해 실물경제 및 외화자금시장 안정에 도움이 되는 방향으로 외환 유입 관련 규제들을 완화하려고 합니다.\"\u001b[0m\n",
      "\u001b[34m},\u001b[0m\n",
      "\u001b[34m{\u001b[0m\n",
      "\u001b[34m    \"QUESTION\": \"건전성 규제 완화 방안 중 선물환포지션 한도 조정 내용은 무엇입니까?\",\u001b[0m\n",
      "\u001b[34m    \"ANSWER\": \"건전성 규제 완화 방안으로 국내은행의 선물환포지션 한도를 50%에서 75%로, 외국은행 국내지점의 한도를 250%에서 375%로 상향 조정합니다.\"\u001b[0m\n",
      "\u001b[34m},\u001b[0m\n",
      "\u001b[34m{\u001b[0m\n",
      "\u001b[34m    \"QUESTION\": \"정부가 외환수급 균형을 위한 정책을 추진하는 전제 조건은 무엇입니까?\",\u001b[0m\n",
      "\u001b[34m    \"ANSWER\": \"정부는 견조한 대외건전성을 유지하는 범위 내에서 외환수급 균형을 위한 정책을 추진할 것입니다.\"\u001b[0m\n",
      "\u001b[34m}\u001b[0m\n",
      "\u001b[34m```요소 1 처리 완료 - 5개 QA 쌍 생성\u001b[0m\n",
      "\u001b[34m요소 2/3 처리 중... (텍스트 길이: 2142)\u001b[0m\n",
      "\u001b[34m```json\u001b[0m\n",
      "\u001b[34m{\u001b[0m\n",
      "\u001b[34m    \"QUESTION\": \"은행권이 외화운용 제약에 따른 어려움과 WGBI 편입 및 RFI 진입 등에 따른 거래상대방 확대 등을 근거로 제기한 바는 무엇입니까?\",\u001b[0m\n",
      "\u001b[34m    \"ANSWER\": \"은행권은 현행 선물환포지션 한도 150%를 상향 조정할 필요성을 제기했습니다.\"\u001b[0m\n",
      "\u001b[34m},\u001b[0m\n",
      "\u001b[34m{\u001b[0m\n",
      "\u001b[34m    \"QUESTION\": \"금융감독원이 운영 중인 외화유동성 스트레스테스트에서 강화된 규제를 유예하기로 한 시기는 언제입니까?\",\u001b[0m\n",
      "\u001b[34m    \"ANSWER\": \"금융감독원은 강화된 스트레스테스트를 통과하지 못할 경우 적용되는 감독상 조치를 2025년 6월까지 유예하기로 했습니다.\"\u001b[0m\n",
      "\u001b[34m},\u001b[0m\n",
      "\u001b[34m{\u001b[0m\n",
      "\u001b[34m    \"QUESTION\": \"외국환은행의 거주자에 대한 원화용도 외화대출 제한을 완화하는 방안은 무엇입니까?\",\u001b[0m\n",
      "\u001b[34m    \"ANSWER\": \"대·중소·중견기업(소상공인 제외)의 시설자금 용도 대출을 허용하는 것입니다.\"\u001b[0m\n",
      "\u001b[34m},\u001b[0m\n",
      "\u001b[34m{\u001b[0m\n",
      "\u001b[34m    \"QUESTION\": \"국내기관의 룩셈부르크 증권거래소 채권 상장 시 편의를 개선하기 위한 조치는 무엇입니까?\",\u001b[0m\n",
      "\u001b[34m    \"ANSWER\": \"국내기관의 룩셈부르크 증권거래소 채권 상장 시 증권신고서 제출을 면제하고, 상장절차를 간소화하는 혜택을 제공하는 것입니다.\"\u001b[0m\n",
      "\u001b[34m},\u001b[0m\n",
      "\u001b[34m{\u001b[0m\n",
      "\u001b[34m    \"QUESTION\": \"한국과 인도네시아 간 현지통화 직거래 체제(LCT) 활용을 활성화하기 위한 개선 방안은 무엇입니까?\",\u001b[0m\n",
      "\u001b[34m    \"ANSWER\": \"한국에서 인도네시아로 지급 시 무증빙 한도를 상향하고, LCT 수행은행의 계좌 일말잔액 한도를 상향하는 것입니다.\"\u001b[0m\n",
      "\u001b[34m}\u001b[0m\n",
      "\u001b[34m```요소 2 처리 완료 - 5개 QA 쌍 생성\u001b[0m\n",
      "\u001b[34m요소 3/3 처리 중... (텍스트 길이: 286)\u001b[0m\n",
      "\u001b[34m```json\u001b[0m\n",
      "\u001b[34m{\u001b[0m\n",
      "\u001b[34m    \"QUESTION\": \"외환당국이 국민연금과 체결한 외환스왑의 현재 한도는 얼마입니까?\",\n",
      "    \"ANSWER\": \"외환당국이 국민연금과 체결한 외환스왑의 현재 한도는 500억 달러입니다.\"\u001b[0m\n",
      "\u001b[34m},\u001b[0m\n",
      "\u001b[34m{\u001b[0m\n",
      "\u001b[34m    \"QUESTION\": \"외환당국이 국민연금과 체결한 외환스왑의 현재 만기는 언제입니까?\",\u001b[0m\n",
      "\u001b[34m    \"ANSWER\": \"외환당국이 국민연금과 체결한 외환스왑의 현재 만기는 2024년입니다.\"\u001b[0m\n",
      "\u001b[34m},\u001b[0m\n",
      "\u001b[34m{\n",
      "    \"QUESTION\": \"외환당국이 국민연금과 체결한 외환스왑의 개선 내용은 무엇입니까?\",\u001b[0m\n",
      "\u001b[34m    \"ANSWER\": \"외환당국이 국민연금과 체결한 외환스왑의 개선 내용은 한도를 500억 달러에서 650억 달러로 확대하고, 만기를 2024년에서 2025년 말로 연장하는 것입니다.\"\u001b[0m\n",
      "\u001b[34m},\u001b[0m\n",
      "\u001b[34m{\n",
      "    \"QUESTION\": \"외환당국이 국민연금과 체결한 외환스왑 증액 및 연장 계약은 언제 이루어집니까?\",\u001b[0m\n",
      "\u001b[34m    \"ANSWER\": \"외환당국이 국민연금과 체결한 외환스왑 증액 및 연장 계약은 금년 중에 이루어집니다.\"\u001b[0m\n",
      "\u001b[34m},\u001b[0m\n",
      "\u001b[34m{\u001b[0m\n",
      "\u001b[34m    \"QUESTION\": \"외환당국은 향후 어떤 계획을 가지고 있습니까?\",\u001b[0m\n",
      "\u001b[34m    \"ANSWER\": \"외환당국은 금번 방안의 시행 효과, 국가신인도 및 외환시장 여건 등을 면밀히 보아가며 단계적으로 제도를 확대해 나갈 계획입니다.\"\u001b[0m\n",
      "\u001b[34m}\u001b[0m\n",
      "\u001b[34m```요소 3 처리 완료 - 5개 QA 쌍 생성\u001b[0m\n",
      "\u001b[34m총 15개의 QA 쌍 생성 완료\u001b[0m\n",
      "\u001b[34m[INFO] QA 생성 완료! 결과 파일이 /opt/ml/processing/output/qa_pairs.jsonl에 저장되었습니다.\u001b[0m\n",
      "\n",
      "Processing Job 완료!\n"
     ]
    }
   ],
   "source": [
    "# (선택 사항) Job이 완료될 때까지 기다리기\n",
    "processor.jobs[-1].wait(logs=True)\n",
    "print(\"Processing Job 완료!\")"
   ]
  },
  {
   "cell_type": "markdown",
   "id": "a01f5edf-b2dc-4f97-b215-74f82a2430ef",
   "metadata": {},
   "source": [
    "# 결과 다운로드"
   ]
  },
  {
   "cell_type": "code",
   "execution_count": 21,
   "id": "2a26f242-a84e-4bb6-922b-70a7d995e278",
   "metadata": {},
   "outputs": [
    {
     "name": "stdout",
     "output_type": "stream",
     "text": [
      "결과 다운로드 완료: qa_pairs.jsonl\n"
     ]
    }
   ],
   "source": [
    "\n",
    "s3_client.download_file(bucket, f\"{output_prefix}/qa_pairs.jsonl\", \"qa_pairs.jsonl\")\n",
    "print(\"결과 다운로드 완료: qa_pairs.jsonl\")"
   ]
  },
  {
   "cell_type": "markdown",
   "id": "888a38e9",
   "metadata": {},
   "source": [
    "# S3 저장경로 확인\n",
    "\n",
    "SageMaker Processing Job의 입력 및 출력 데이터가 저장된 S3 경로를 확인할 수 있습니다."
   ]
  },
  {
   "cell_type": "code",
   "execution_count": 19,
   "id": "26d8e4de",
   "metadata": {},
   "outputs": [
    {
     "name": "stdout",
     "output_type": "stream",
     "text": [
      "출력 데이터 S3 경로: s3://sagemaker-us-east-1-975050087315/pdf-qa-generation/output/2025-05-29-08-40-07/qa_pairs.jsonl\n"
     ]
    }
   ],
   "source": [
    "print(f\"출력 데이터 S3 경로: s3://{bucket}/{output_prefix}/qa_pairs.jsonl\")\n"
   ]
  },
  {
   "cell_type": "code",
   "execution_count": 22,
   "id": "f1783e1c-dbf8-457a-a7b4-47d2aabed101",
   "metadata": {},
   "outputs": [
    {
     "name": "stdout",
     "output_type": "stream",
     "text": [
      "{\n",
      "  \"QUESTION\": \"외환수급 불균형 구조가 형성된 주요 원인은 무엇입니까?\",\n",
      "  \"ANSWER\": \"외화 유입 대비 유출 우위가 지속되어 외환수급 불균형 구조가 형성되었습니다.\"\n",
      "}\n",
      "----------------------------------------\n",
      "{\n",
      "  \"QUESTION\": \"우리나라의 대외건전성이 견고해진 주요 지표는 무엇입니까?\",\n",
      "  \"ANSWER\": \"외환보유액이 4,000억불을 상회하고, 순대외금융자산이 1조불에 이르는 등 우리나라의 대외건전성이 견고해졌습니다.\"\n",
      "}\n",
      "----------------------------------------\n",
      "{\n",
      "  \"QUESTION\": \"외환수급 균형을 위해 정부가 추진하려는 정책 방향은 무엇입니까?\",\n",
      "  \"ANSWER\": \"외환수급 균형을 위해 실물경제 및 외화자금시장 안정에 도움이 되는 방향으로 외환 유입 관련 규제들을 완화하려고 합니다.\"\n",
      "}\n",
      "----------------------------------------\n",
      "{\n",
      "  \"QUESTION\": \"건전성 규제 완화 방안 중 선물환포지션 한도 조정 내용은 무엇입니까?\",\n",
      "  \"ANSWER\": \"건전성 규제 완화 방안으로 국내은행의 선물환포지션 한도를 50%에서 75%로, 외국은행 국내지점의 한도를 250%에서 375%로 상향 조정합니다.\"\n",
      "}\n",
      "----------------------------------------\n",
      "{\n",
      "  \"QUESTION\": \"정부가 외환수급 균형을 위한 정책을 추진하는 전제 조건은 무엇입니까?\",\n",
      "  \"ANSWER\": \"정부는 견조한 대외건전성을 유지하는 범위 내에서 외환수급 균형을 위한 정책을 추진할 것입니다.\"\n",
      "}\n",
      "----------------------------------------\n",
      "{\n",
      "  \"QUESTION\": \"은행권이 외화운용 제약에 따른 어려움과 WGBI 편입 및 RFI 진입 등에 따른 거래상대방 확대 등을 근거로 제기한 바는 무엇입니까?\",\n",
      "  \"ANSWER\": \"은행권은 현행 선물환포지션 한도 150%를 상향 조정할 필요성을 제기했습니다.\"\n",
      "}\n",
      "----------------------------------------\n",
      "{\n",
      "  \"QUESTION\": \"금융감독원이 운영 중인 외화유동성 스트레스테스트에서 강화된 규제를 유예하기로 한 시기는 언제입니까?\",\n",
      "  \"ANSWER\": \"금융감독원은 강화된 스트레스테스트를 통과하지 못할 경우 적용되는 감독상 조치를 2025년 6월까지 유예하기로 했습니다.\"\n",
      "}\n",
      "----------------------------------------\n",
      "{\n",
      "  \"QUESTION\": \"외국환은행의 거주자에 대한 원화용도 외화대출 제한을 완화하는 방안은 무엇입니까?\",\n",
      "  \"ANSWER\": \"대·중소·중견기업(소상공인 제외)의 시설자금 용도 대출을 허용하는 것입니다.\"\n",
      "}\n",
      "----------------------------------------\n",
      "{\n",
      "  \"QUESTION\": \"국내기관의 룩셈부르크 증권거래소 채권 상장 시 편의를 개선하기 위한 조치는 무엇입니까?\",\n",
      "  \"ANSWER\": \"국내기관의 룩셈부르크 증권거래소 채권 상장 시 증권신고서 제출을 면제하고, 상장절차를 간소화하는 혜택을 제공하는 것입니다.\"\n",
      "}\n",
      "----------------------------------------\n",
      "{\n",
      "  \"QUESTION\": \"한국과 인도네시아 간 현지통화 직거래 체제(LCT) 활용을 활성화하기 위한 개선 방안은 무엇입니까?\",\n",
      "  \"ANSWER\": \"한국에서 인도네시아로 지급 시 무증빙 한도를 상향하고, LCT 수행은행의 계좌 일말잔액 한도를 상향하는 것입니다.\"\n",
      "}\n",
      "----------------------------------------\n",
      "{\n",
      "  \"QUESTION\": \"외환당국이 국민연금과 체결한 외환스왑의 현재 한도는 얼마입니까?\",\n",
      "  \"ANSWER\": \"외환당국이 국민연금과 체결한 외환스왑의 현재 한도는 500억 달러입니다.\"\n",
      "}\n",
      "----------------------------------------\n",
      "{\n",
      "  \"QUESTION\": \"외환당국이 국민연금과 체결한 외환스왑의 현재 만기는 언제입니까?\",\n",
      "  \"ANSWER\": \"외환당국이 국민연금과 체결한 외환스왑의 현재 만기는 2024년입니다.\"\n",
      "}\n",
      "----------------------------------------\n",
      "{\n",
      "  \"QUESTION\": \"외환당국이 국민연금과 체결한 외환스왑의 개선 내용은 무엇입니까?\",\n",
      "  \"ANSWER\": \"외환당국이 국민연금과 체결한 외환스왑의 개선 내용은 한도를 500억 달러에서 650억 달러로 확대하고, 만기를 2024년에서 2025년 말로 연장하는 것입니다.\"\n",
      "}\n",
      "----------------------------------------\n",
      "{\n",
      "  \"QUESTION\": \"외환당국이 국민연금과 체결한 외환스왑 증액 및 연장 계약은 언제 이루어집니까?\",\n",
      "  \"ANSWER\": \"외환당국이 국민연금과 체결한 외환스왑 증액 및 연장 계약은 금년 중에 이루어집니다.\"\n",
      "}\n",
      "----------------------------------------\n",
      "{\n",
      "  \"QUESTION\": \"외환당국은 향후 어떤 계획을 가지고 있습니까?\",\n",
      "  \"ANSWER\": \"외환당국은 금번 방안의 시행 효과, 국가신인도 및 외환시장 여건 등을 면밀히 보아가며 단계적으로 제도를 확대해 나갈 계획입니다.\"\n",
      "}\n",
      "----------------------------------------\n"
     ]
    }
   ],
   "source": [
    "import json\n",
    "\n",
    "with open(\"qa_pairs.jsonl\", \"r\", encoding=\"utf-8\") as f:\n",
    "    for line in f:\n",
    "        qa = json.loads(line)\n",
    "        print(json.dumps(qa, ensure_ascii=False, indent=2))\n",
    "        print(\"-\" * 40)"
   ]
  },
  {
   "cell_type": "markdown",
   "id": "291d5f6a",
   "metadata": {},
   "source": []
  }
 ],
 "metadata": {
  "kernelspec": {
   "display_name": "conda_pytorch_p310",
   "language": "python",
   "name": "conda_pytorch_p310"
  },
  "language_info": {
   "codemirror_mode": {
    "name": "ipython",
    "version": 3
   },
   "file_extension": ".py",
   "mimetype": "text/x-python",
   "name": "python",
   "nbconvert_exporter": "python",
   "pygments_lexer": "ipython3",
   "version": "3.10.14"
  }
 },
 "nbformat": 4,
 "nbformat_minor": 5
}
