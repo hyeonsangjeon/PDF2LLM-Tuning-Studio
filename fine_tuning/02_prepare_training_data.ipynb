{
 "cells": [
  {
   "cell_type": "markdown",
   "id": "ae2f28c3",
   "metadata": {},
   "source": [
    "# 데이터 로드 및 전처리 과정 설명\n",
    "\n",
    "1. **JSONL 파일에서 QA 쌍 로드**  \n",
    "    - `data/qa_pairs.jsonl` 파일을 한 줄씩 읽어 각 줄을 JSON 객체로 파싱하여 `qa_pairs` 리스트에 저장합니다.\n",
    "    - 전체 QA 쌍의 개수와 첫 번째 QA 쌍의 내용을 출력하여 데이터가 정상적으로 로드되었는지 확인합니다.\n",
    "\n",
    "2. **QA 쌍 추가**  \n",
    "    - 디버깅 및 테스트를 위해 두 개의 QA 쌍(`qa_add`)을 직접 리스트에 추가합니다.\n",
    "    - `qa_pairs` 리스트에 이 데이터를 확장하여 추가합니다.\n",
    "\n",
    "3. **데이터 확인**  \n",
    "    - 전체 QA 쌍의 개수를 다시 출력하고, 마지막 두 개의 QA 쌍을 출력하여 추가된 데이터가 정상적으로 반영되었는지 확인합니다.\n",
    "\n",
    "4. **파인튜닝용 데이터 변환 및 저장**  \n",
    "    - 각 QA 쌍을 LLM 파인튜닝에 적합한 instruction 형태(`instruction`, `input`, `output` 필드)로 변환합니다.\n",
    "    - 변환된 데이터를 `data/train_data.jsonl` 파일에 한 줄씩 저장합니다.  \n",
    "    - `ensure_ascii=False` 옵션을 사용하여 한글이 깨지지 않도록 처리합니다.\n",
    "    "
   ]
  },
  {
   "cell_type": "code",
   "execution_count": null,
   "id": "0e8690ba",
   "metadata": {},
   "outputs": [],
   "source": [
    "import json\n",
    "\n",
    "# 파일 경로\n",
    "file_path = \"data/qa_pairs.jsonl\"\n",
    "\n",
    "# 파일 읽기\n",
    "qa_pairs = []\n",
    "with open(file_path, 'r', encoding='utf-8') as file:\n",
    "    for line in file:\n",
    "        # 각 줄을 JSON으로 파싱\n",
    "        qa_pair = json.loads(line.strip())\n",
    "        qa_pairs.append(qa_pair)\n",
    "\n",
    "# 데이터 확인\n",
    "print(f\"총 {len(qa_pairs)}개의 QA 쌍을 로드했습니다.\")\n",
    "print(\"첫 번째 QA 쌍:\", qa_pairs[0])"
   ]
  },
  {
   "cell_type": "code",
   "execution_count": 2,
   "id": "ca201050-3744-4ca0-9e66-d627b9921968",
   "metadata": {},
   "outputs": [],
   "source": [
    "# 디버깅을 위한 추가\n",
    "qa_add = [\n",
    "    {\n",
    "        \"QUESTION\": \"전현상은 누구입니까?\",\n",
    "        \"ANSWER\": \"전현상은 현재 Amazon Web Services의 Solutions Architect입니다.\",\n",
    "    },\n",
    "    {\n",
    "        \"QUESTION\": \"금융보안교육센터의 주소 알려주세요.\",\n",
    "        \"ANSWER\": \"금융보안교육센터의 주소는 서울특별시 영등포구 의사당대로 143 금투센터 8층 입니다.\",\n",
    "    },    \n",
    "]\n",
    "qa_pairs.extend(qa_add)"
   ]
  },
  {
   "cell_type": "code",
   "execution_count": 3,
   "id": "6b7f3055-dcb0-4850-9d25-791837ea012e",
   "metadata": {},
   "outputs": [
    {
     "name": "stdout",
     "output_type": "stream",
     "text": [
      "총 17개의 QA 쌍을 로드했습니다.\n",
      "마지막 두 개 QA 쌍: [{'QUESTION': '전현상은 누구입니까?', 'ANSWER': '전현상은 현재 Amazon Web Services의 Solutions Architect입니다.'}, {'QUESTION': '금융보안교육센터의 주소 알려주세요.', 'ANSWER': '금융보안교육센터의 주소는 서울특별시 영등포구 의사당대로 143 금투센터 8층 입니다.'}]\n"
     ]
    }
   ],
   "source": [
    "\n",
    "\n",
    "print(f\"총 {len(qa_pairs)}개의 QA 쌍을 로드했습니다.\")\n",
    "print(\"마지막 두 개 QA 쌍:\", qa_pairs[-2:])  # 새로 추가된 항목 확인"
   ]
  },
  {
   "cell_type": "markdown",
   "id": "44a34a9f-3391-4458-93e7-85f330b027a8",
   "metadata": {},
   "source": [
    "# 파인튜닝을 위한 instruction 형태 변환\n",
    "각 QA 쌍을 LLM 파인튜닝에 적합한 instruction 기반 포맷(`instruction`, `input`, `output` 필드)으로 변환합니다.  \n",
    "변환된 데이터는 `train_data.jsonl` 파일에 한 줄씩 저장되며, 한글이 깨지지 않도록 `ensure_ascii=False` 옵션을 사용합니다.  \n",
    "이 파일은 LLM 파인튜닝 학습에 사용됩니다."
   ]
  },
  {
   "cell_type": "code",
   "execution_count": 4,
   "id": "1e94892a-f915-4e9c-8014-41a89c5a8874",
   "metadata": {},
   "outputs": [],
   "source": [
    "import json\n",
    "\n",
    "with open(\"data/train_data.jsonl\", \"w\", encoding=\"utf-8\") as f:\n",
    "    for qa in qa_pairs:\n",
    "        qa_modified = {\n",
    "            \"instruction\": qa[\"QUESTION\"],\n",
    "            \"input\": \"\",\n",
    "            \"output\": qa[\"ANSWER\"],\n",
    "        }\n",
    "        f.write(json.dumps(qa_modified, ensure_ascii=False) + \"\\n\")"
   ]
  },
  {
   "cell_type": "markdown",
   "id": "afc1a667",
   "metadata": {},
   "source": [
    "# 데이터 분석 및 시각화(옵션)"
   ]
  },
  {
   "cell_type": "code",
   "execution_count": null,
   "id": "73b3f4e5",
   "metadata": {},
   "outputs": [],
   "source": [
    "import matplotlib.pyplot as plt\n",
    "import numpy as np\n",
    "from collections import Counter\n",
    "\n",
    "# 질문/답변 길이 분석\n",
    "q_lengths = [len(qa[\"QUESTION\"]) for qa in filtered_qa_pairs]\n",
    "a_lengths = [len(qa[\"ANSWER\"]) for qa in filtered_qa_pairs]\n",
    "\n",
    "# 기본 통계 계산\n",
    "print(f\"질문 평균 길이: {np.mean(q_lengths):.1f} 문자 (최소: {min(q_lengths)}, 최대: {max(q_lengths)})\")\n",
    "print(f\"답변 평균 길이: {np.mean(a_lengths):.1f} 문자 (최소: {min(a_lengths)}, 최대: {max(a_lengths)})\")\n",
    "\n",
    "# 시각화\n",
    "plt.figure(figsize=(15, 5))\n",
    "\n",
    "# 질문 길이 분포\n",
    "plt.subplot(1, 2, 1)\n",
    "plt.hist(q_lengths, bins=20, alpha=0.7)\n",
    "plt.title('질문 길이 분포')\n",
    "plt.xlabel('문자 길이')\n",
    "plt.ylabel('빈도')\n",
    "\n",
    "# 답변 길이 분포\n",
    "plt.subplot(1, 2, 2)\n",
    "plt.hist(a_lengths, bins=20, alpha=0.7)\n",
    "plt.title('답변 길이 분포')\n",
    "plt.xlabel('문자 길이')\n",
    "plt.ylabel('빈도')\n",
    "\n",
    "plt.tight_layout()\n",
    "plt.show()"
   ]
  }
 ],
 "metadata": {
  "kernelspec": {
   "display_name": "conda_pytorch_p310",
   "language": "python",
   "name": "conda_pytorch_p310"
  },
  "language_info": {
   "codemirror_mode": {
    "name": "ipython",
    "version": 3
   },
   "file_extension": ".py",
   "mimetype": "text/x-python",
   "name": "python",
   "nbconvert_exporter": "python",
   "pygments_lexer": "ipython3",
   "version": "3.10.14"
  }
 },
 "nbformat": 4,
 "nbformat_minor": 5
}
