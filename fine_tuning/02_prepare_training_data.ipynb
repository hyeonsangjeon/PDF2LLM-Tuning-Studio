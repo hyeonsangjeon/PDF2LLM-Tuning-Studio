{
 "cells": [
  {
   "cell_type": "code",
   "execution_count": 1,
   "id": "1d30f876-6cd5-4545-9f1d-13b89d4409ff",
   "metadata": {},
   "outputs": [
    {
     "name": "stdout",
     "output_type": "stream",
     "text": [
      "총 15개의 QA 쌍을 로드했습니다.\n",
      "첫 번째 QA 쌍: {'QUESTION': '외환수급 불균형 구조가 형성된 주요 원인은 무엇입니까?', 'ANSWER': '외화 유입 대비 유출 우위가 지속되어 외환수급 불균형 구조가 형성되었습니다.'}\n"
     ]
    }
   ],
   "source": [
    "import json\n",
    "\n",
    "# 파일 경로\n",
    "file_path = \"data/qa_pairs.jsonl\"\n",
    "\n",
    "# 파일 읽기\n",
    "qa_pairs = []\n",
    "with open(file_path, 'r', encoding='utf-8') as file:\n",
    "    for line in file:\n",
    "        # 각 줄을 JSON으로 파싱\n",
    "        qa_pair = json.loads(line.strip())\n",
    "        qa_pairs.append(qa_pair)\n",
    "\n",
    "# 데이터 확인\n",
    "print(f\"총 {len(qa_pairs)}개의 QA 쌍을 로드했습니다.\")\n",
    "print(\"첫 번째 QA 쌍:\", qa_pairs[0])"
   ]
  },
  {
   "cell_type": "code",
   "execution_count": 2,
   "id": "ca201050-3744-4ca0-9e66-d627b9921968",
   "metadata": {},
   "outputs": [],
   "source": [
    "# 디버깅을 위한 추가\n",
    "qa_add = [\n",
    "    {\n",
    "        \"QUESTION\": \"전현상은 누구입니까?\",\n",
    "        \"ANSWER\": \"전현상은 현재 Amazon Web Services의 Solutions Architect입니다.\",\n",
    "    },\n",
    "    {\n",
    "        \"QUESTION\": \"금융보안교육센터의 주소 알려주세요.\",\n",
    "        \"ANSWER\": \"금융보안교육센터의 주소는 서울특별시 영등포구 의사당대로 143 금투센터 8층 입니다.\",\n",
    "    },    \n",
    "]\n",
    "qa_pairs.extend(qa_add)"
   ]
  },
  {
   "cell_type": "code",
   "execution_count": 3,
   "id": "6b7f3055-dcb0-4850-9d25-791837ea012e",
   "metadata": {},
   "outputs": [
    {
     "name": "stdout",
     "output_type": "stream",
     "text": [
      "총 17개의 QA 쌍을 로드했습니다.\n",
      "마지막 두 개 QA 쌍: [{'QUESTION': '전현상은 누구입니까?', 'ANSWER': '전현상은 현재 Amazon Web Services의 Solutions Architect입니다.'}, {'QUESTION': '금융보안교육센터의 주소 알려주세요.', 'ANSWER': '금융보안교육센터의 주소는 서울특별시 영등포구 의사당대로 143 금투센터 8층 입니다.'}]\n"
     ]
    }
   ],
   "source": [
    "\n",
    "\n",
    "print(f\"총 {len(qa_pairs)}개의 QA 쌍을 로드했습니다.\")\n",
    "print(\"마지막 두 개 QA 쌍:\", qa_pairs[-2:])  # 새로 추가된 항목 확인"
   ]
  },
  {
   "cell_type": "markdown",
   "id": "44a34a9f-3391-4458-93e7-85f330b027a8",
   "metadata": {},
   "source": [
    "# 파인튜닝을 위한 instruction 형태 변환"
   ]
  },
  {
   "cell_type": "code",
   "execution_count": 4,
   "id": "1e94892a-f915-4e9c-8014-41a89c5a8874",
   "metadata": {},
   "outputs": [],
   "source": [
    "import json\n",
    "\n",
    "with open(\"data/train_data.jsonl\", \"w\", encoding=\"utf-8\") as f:\n",
    "    for qa in qa_pairs:\n",
    "        qa_modified = {\n",
    "            \"instruction\": qa[\"QUESTION\"],\n",
    "            \"input\": \"\",\n",
    "            \"output\": qa[\"ANSWER\"],\n",
    "        }\n",
    "        f.write(json.dumps(qa_modified, ensure_ascii=False) + \"\\n\")"
   ]
  },
  {
   "cell_type": "code",
   "execution_count": null,
   "id": "dfb60726-4b5a-459f-ad5f-fb58fbd4188d",
   "metadata": {},
   "outputs": [],
   "source": []
  }
 ],
 "metadata": {
  "kernelspec": {
   "display_name": "conda_pytorch_p310",
   "language": "python",
   "name": "conda_pytorch_p310"
  },
  "language_info": {
   "codemirror_mode": {
    "name": "ipython",
    "version": 3
   },
   "file_extension": ".py",
   "mimetype": "text/x-python",
   "name": "python",
   "nbconvert_exporter": "python",
   "pygments_lexer": "ipython3",
   "version": "3.10.14"
  }
 },
 "nbformat": 4,
 "nbformat_minor": 5
}
