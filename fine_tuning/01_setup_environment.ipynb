{
 "cells": [
  {
   "cell_type": "code",
   "execution_count": 1,
   "id": "2601a499-1559-4ae0-8f18-4206e00e4503",
   "metadata": {},
   "outputs": [
    {
     "data": {
      "text/plain": [
       "(8, 6)"
      ]
     },
     "execution_count": 1,
     "metadata": {},
     "output_type": "execute_result"
    }
   ],
   "source": [
    "import torch\n",
    "\n",
    "# CUDA 장치의 주요 버전과 부 버전을 가져옵니다.\n",
    "major_version, minor_version = torch.cuda.get_device_capability()\n",
    "major_version, minor_version"
   ]
  },
  {
   "cell_type": "markdown",
   "id": "1543a22e",
   "metadata": {},
   "source": []
  },
  {
   "cell_type": "markdown",
   "id": "f7eb913d-7c42-4be1-afca-b3c429454904",
   "metadata": {},
   "source": [
    "# Sagemaker notebook이나 Colab은 torch 2.2.1을 사용하고 있는 패키지 충돌을 방지하기 위해 별도로 설치해야 합니다.\n",
    "- 참조 Unsloth Documentation : https://docs.unsloth.ai/get-started/installing-+-updating/pip-install"
   ]
  },
  {
   "cell_type": "code",
   "execution_count": null,
   "id": "1d30f876-6cd5-4545-9f1d-13b89d4409ff",
   "metadata": {},
   "outputs": [],
   "source": [
    "\n",
    "#\"trl==0.18.0\" 업데이트로 인한 오류 발생이 SFTTrainer에서 발생할 수 있습니다.2025.05.29\n",
    "# SageMaker notebook instance에서  xformers 설치 오류가 발생할 수 있습니다. SFT 실행은 영향없음. 2025.05.29 \n",
    "\n",
    "!pip install \"unsloth[colab-new] @ git+https://github.com/unslothai/unsloth.git\"\n",
    "if major_version >= 8:\n",
    "    # 새로운 GPU(예: Ampere, Hopper GPUs - RTX 30xx, RTX 40xx, A100, H100, L40)에 사용하세요.\n",
    "    !pip install --no-deps packaging ninja einops   trl==0.15.2  flash-attn==2.7.4.post1 peft accelerate bitsandbytes #xformers==0.0.29\n",
    "else:\n",
    "    # 오래된 GPU(예: V100, Tesla T4, RTX 20xx)에 사용하세요.\n",
    "    !pip install --no-deps trl==0.15.2 peft accelerate bitsandbytes xformers==0.0.29\n",
    "pass\n",
    "\n"
   ]
  },
  {
   "cell_type": "markdown",
   "id": "998bc796-0db8-4da8-a3fd-23b7b1501391",
   "metadata": {},
   "source": [
    "#여기서 리스타트 하라고 권고\n",
    "#https://github.com/pytorch/pytorch/issues/120199"
   ]
  },
  {
   "cell_type": "code",
   "execution_count": 1,
   "id": "ca201050-3744-4ca0-9e66-d627b9921968",
   "metadata": {},
   "outputs": [
    {
     "name": "stdout",
     "output_type": "stream",
     "text": [
      "📦 Triton 패키지를 재설치하고 커널을 재시작합니다...\n",
      "1️⃣ 기존 Triton 제거 중...\n",
      "Found existing installation: triton 2.2.0\n",
      "Uninstalling triton-2.2.0:\n",
      "  Successfully uninstalled triton-2.2.0\n",
      "2️⃣ Triton 2.2.0 설치 중...\n",
      "Collecting triton==2.2.0\n",
      "  Downloading triton-2.2.0-cp310-cp310-manylinux_2_17_x86_64.manylinux2014_x86_64.whl.metadata (1.4 kB)\n",
      "Requirement already satisfied: filelock in /home/ec2-user/anaconda3/envs/pytorch_p310/lib/python3.10/site-packages (from triton==2.2.0) (3.16.1)\n",
      "Downloading triton-2.2.0-cp310-cp310-manylinux_2_17_x86_64.manylinux2014_x86_64.whl (167.9 MB)\n",
      "\u001b[2K   \u001b[90m━━━━━━━━━━━━━━━━━━━━━━━━━━━━━━━━━━━━━━━\u001b[0m \u001b[32m167.9/167.9 MB\u001b[0m \u001b[31m208.6 MB/s\u001b[0m eta \u001b[36m0:00:00\u001b[0m00:01\u001b[0m00:01\u001b[0m\n",
      "\u001b[?25hInstalling collected packages: triton\n",
      "\u001b[31mERROR: pip's dependency resolver does not currently take into account all the packages that are installed. This behaviour is the source of the following dependency conflicts.\n",
      "unsloth-zoo 2025.5.8 requires triton>=3.0.0; platform_system == \"Linux\", but you have triton 2.2.0 which is incompatible.\u001b[0m\u001b[31m\n",
      "\u001b[0mSuccessfully installed triton-2.2.0\n",
      "3️⃣ 설치 완료! 커널을 재시작합니다.\n",
      "⚠️ 잠시 후 커널이 재시작됩니다. 재시작 후 다음 셀을 실행해주세요.\n",
      "----------------------------------------------------\n"
     ]
    },
    {
     "data": {
      "text/plain": [
       "{'status': 'ok', 'restart': True}"
      ]
     },
     "execution_count": 1,
     "metadata": {},
     "output_type": "execute_result"
    }
   ],
   "source": [
    "import sys\n",
    "import IPython\n",
    "\n",
    "# Triton 패키지 재설치\n",
    "print(\"📦 Triton 패키지를 재설치하고 커널을 재시작합니다...\")\n",
    "print(\"1️⃣ 기존 Triton 제거 중...\")\n",
    "!{sys.executable} -m pip uninstall -y triton\n",
    "\n",
    "print(\"2️⃣ Triton 2.2.0 설치 중...\")\n",
    "!{sys.executable} -m pip install --no-cache-dir triton==2.2.0\n",
    "\n",
    "print(\"3️⃣ 설치 완료! 커널을 재시작합니다.\")\n",
    "print(\"⚠️ 잠시 후 커널이 재시작됩니다. 재시작 후 다음 셀을 실행해주세요.\")\n",
    "print(\"----------------------------------------------------\")\n",
    "\n",
    "# 3초 대기 후 커널 재시작\n",
    "import time\n",
    "time.sleep(3)\n",
    "\n",
    "# 커널 재시작\n",
    "IPython.Application.instance().kernel.do_shutdown(True)\n"
   ]
  },
  {
   "cell_type": "code",
   "execution_count": 1,
   "id": "826e5215-7b57-43e5-b045-b06ef5e6a761",
   "metadata": {},
   "outputs": [
    {
     "name": "stdout",
     "output_type": "stream",
     "text": [
      "Triton 버전: 2.2.0\n",
      "PyTorch 버전: 2.2.2\n"
     ]
    }
   ],
   "source": [
    "# 설치 확인\n",
    "import triton\n",
    "print(f\"Triton 버전: {triton.__version__}\")\n",
    "import torch\n",
    "print(f\"PyTorch 버전: {torch.__version__}\")"
   ]
  },
  {
   "cell_type": "code",
   "execution_count": null,
   "id": "ba1812c4-e601-4b67-af6c-e151bd2a7e94",
   "metadata": {},
   "outputs": [],
   "source": [
    "import torch, triton, triton, flash_attn, unsloth, trl\n",
    "print(torch.__version__)      # 2.2.2  (CUDA 12.1)\n",
    "print(triton.__version__)     # 2.2.0  ← OK\n",
    "print(flash_attn.__version__)\n",
    "print(unsloth.__version__)\n",
    "print(trl.__version__)    # 0.15.2 또는 0.18.0 (trl==0.18.0 업데이트로 인한 오류 발생이 SFTTrainer에서 발생할 수 있습니다.2025.05.29)\n",
    "#print(xformers.__version__) xformers 이거 안깔려도 실행에 문제는없음\n"
   ]
  }
 ],
 "metadata": {
  "kernelspec": {
   "display_name": "conda_pytorch_p310",
   "language": "python",
   "name": "conda_pytorch_p310"
  },
  "language_info": {
   "codemirror_mode": {
    "name": "ipython",
    "version": 3
   },
   "file_extension": ".py",
   "mimetype": "text/x-python",
   "name": "python",
   "nbconvert_exporter": "python",
   "pygments_lexer": "ipython3",
   "version": "3.10.14"
  }
 },
 "nbformat": 4,
 "nbformat_minor": 5
}
