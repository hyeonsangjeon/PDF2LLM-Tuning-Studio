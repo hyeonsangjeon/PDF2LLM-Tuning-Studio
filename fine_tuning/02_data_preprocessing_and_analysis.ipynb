{
 "cells": [
  {
   "cell_type": "markdown",
   "id": "ff5203df",
   "metadata": {},
   "source": [
    "## 파인튜닝 성능 향상을 위한 데이터 전처리 및 분석"
   ]
  },
  {
   "cell_type": "markdown",
   "id": "98b7098c",
   "metadata": {},
   "source": [
    "## S3 저장소 또는 로컬에서 QA JSONL 데이터 다운로드\n",
    "\n",
    "- S3 버킷 또는 로컬 파일 시스템에서 `qa_pairs.jsonl` 파일을 다운로드하는 방법을 안내합니다.\n",
    "- AWS CLI를 사용하여 S3에서 파일을 다운로드하거나, 이미 로컬에 파일이 있는 경우 해당 경로를 지정하여 사용할 수 있습니다.\n",
    "- 예시:\n",
    "    - S3에서 다운로드:  \n",
    "        ```bash\n",
    "        aws s3 cp s3://<bucket-name>/path/to/qa_pairs.jsonl data/qa_pairs.jsonl\n",
    "        ```\n",
    "    - 로컬 파일 사용:  \n",
    "        - `data/qa_pairs.jsonl` 경로에 파일이 존재하는지 확인 후 사용합니다."
   ]
  },
  {
   "cell_type": "code",
   "execution_count": null,
   "id": "4e6fc1bb",
   "metadata": {},
   "outputs": [],
   "source": [
    "import boto3\n",
    "\n",
    "#출력 데이터 S3 경로\n",
    "s3_client = boto3.client('s3')\n",
    "bucket = \"sagemaker-us-east-1-740128158828\"\n",
    "key = \"pdf-qa-generation/output/2025-05-28-15-37-22/qa_pairs.jsonl\"\n",
    "local_path = \"data/qa_pairs.jsonl\"\n",
    "\n",
    "s3_client.download_file(bucket, key, local_path)\n",
    "print(\"결과 다운로드 완료: qa_pairs.jsonl\")"
   ]
  },
  {
   "cell_type": "markdown",
   "id": "b22a7643",
   "metadata": {},
   "source": [
    "## 1. 데이터 품질 검증 및 전처리\n"
   ]
  },
  {
   "cell_type": "code",
   "execution_count": null,
   "id": "531c1583",
   "metadata": {},
   "outputs": [],
   "source": []
  },
  {
   "cell_type": "markdown",
   "id": "0ae3670b",
   "metadata": {},
   "source": []
  }
 ],
 "metadata": {
  "kernelspec": {
   "display_name": "Python 3",
   "language": "python",
   "name": "python3"
  },
  "language_info": {
   "codemirror_mode": {
    "name": "ipython",
    "version": 3
   },
   "file_extension": ".py",
   "mimetype": "text/x-python",
   "name": "python",
   "nbconvert_exporter": "python",
   "pygments_lexer": "ipython3",
   "version": "3.10.17"
  }
 },
 "nbformat": 4,
 "nbformat_minor": 5
}
